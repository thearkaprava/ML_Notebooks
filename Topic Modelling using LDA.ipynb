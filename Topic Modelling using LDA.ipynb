{
 "cells": [
  {
   "cell_type": "markdown",
   "metadata": {},
   "source": [
    "Here we perform **LDA** on a documents containing questions from Economics so that we may find the most important topics from where questions have been asked, without physically going through all the questions.  "
   ]
  },
  {
   "cell_type": "code",
   "execution_count": 1,
   "metadata": {},
   "outputs": [
    {
     "data": {
      "text/html": [
       "<script type=\"text/javascript\">window.PlotlyConfig = {MathJaxConfig: 'local'};</script><script type=\"text/javascript\">if (window.MathJax) {MathJax.Hub.Config({SVG: {font: \"STIX-Web\"}});}</script><script>requirejs.config({paths: { 'plotly': ['https://cdn.plot.ly/plotly-latest.min']},});if(!window._Plotly) {require(['plotly'],function(plotly) {window._Plotly=plotly;});}</script>"
      ],
      "text/vnd.plotly.v1+html": [
       "<script type=\"text/javascript\">window.PlotlyConfig = {MathJaxConfig: 'local'};</script><script type=\"text/javascript\">if (window.MathJax) {MathJax.Hub.Config({SVG: {font: \"STIX-Web\"}});}</script><script>requirejs.config({paths: { 'plotly': ['https://cdn.plot.ly/plotly-latest.min']},});if(!window._Plotly) {require(['plotly'],function(plotly) {window._Plotly=plotly;});}</script>"
      ]
     },
     "metadata": {},
     "output_type": "display_data"
    }
   ],
   "source": [
    "import os\n",
    "import numpy as np\n",
    "from plotly.offline import download_plotlyjs, init_notebook_mode, plot, iplot\n",
    "import plotly as py\n",
    "import plotly.graph_objs as go\n",
    "\n",
    "init_notebook_mode(connected=True) \n",
    "\n",
    "from gensim import corpora, models, similarities\n",
    "\n",
    "import warnings\n",
    "warnings.filterwarnings(\"ignore\")"
   ]
  },
  {
   "cell_type": "code",
   "execution_count": 2,
   "metadata": {},
   "outputs": [],
   "source": [
    "import os\n",
    "os.chdir(\"/home/arkaprava/Documents/Data\")"
   ]
  },
  {
   "cell_type": "code",
   "execution_count": 3,
   "metadata": {},
   "outputs": [],
   "source": [
    "import pandas as pd\n",
    "data1 = pd.read_csv(\"Data1\", sep='delimiter', header=None)\n",
    "data2 = pd.read_csv(\"Data3\", sep='delimiter', header=None)"
   ]
  },
  {
   "cell_type": "code",
   "execution_count": 4,
   "metadata": {},
   "outputs": [
    {
     "data": {
      "text/html": [
       "<div>\n",
       "<style scoped>\n",
       "    .dataframe tbody tr th:only-of-type {\n",
       "        vertical-align: middle;\n",
       "    }\n",
       "\n",
       "    .dataframe tbody tr th {\n",
       "        vertical-align: top;\n",
       "    }\n",
       "\n",
       "    .dataframe thead th {\n",
       "        text-align: right;\n",
       "    }\n",
       "</style>\n",
       "<table border=\"1\" class=\"dataframe\">\n",
       "  <thead>\n",
       "    <tr style=\"text-align: right;\">\n",
       "      <th></th>\n",
       "      <th>0</th>\n",
       "    </tr>\n",
       "  </thead>\n",
       "  <tbody>\n",
       "    <tr>\n",
       "      <th>0</th>\n",
       "      <td>A firm in a perfectly competitive market in th...</td>\n",
       "    </tr>\n",
       "    <tr>\n",
       "      <th>1</th>\n",
       "      <td>In a competitive market, in equilibrium, total...</td>\n",
       "    </tr>\n",
       "    <tr>\n",
       "      <th>2</th>\n",
       "      <td>A new technology for producing computer chips ...</td>\n",
       "    </tr>\n",
       "    <tr>\n",
       "      <th>3</th>\n",
       "      <td>Negative production externality is the result of</td>\n",
       "    </tr>\n",
       "    <tr>\n",
       "      <th>4</th>\n",
       "      <td>A lumpsum tax</td>\n",
       "    </tr>\n",
       "  </tbody>\n",
       "</table>\n",
       "</div>"
      ],
      "text/plain": [
       "                                                   0\n",
       "0  A firm in a perfectly competitive market in th...\n",
       "1  In a competitive market, in equilibrium, total...\n",
       "2  A new technology for producing computer chips ...\n",
       "3   Negative production externality is the result of\n",
       "4                                      A lumpsum tax"
      ]
     },
     "execution_count": 4,
     "metadata": {},
     "output_type": "execute_result"
    }
   ],
   "source": [
    "data = pd.merge(data1, data2, how = 'outer')\n",
    "data.head()"
   ]
  },
  {
   "cell_type": "code",
   "execution_count": 5,
   "metadata": {},
   "outputs": [
    {
     "data": {
      "text/plain": [
       "range(0, 59)"
      ]
     },
     "execution_count": 5,
     "metadata": {},
     "output_type": "execute_result"
    }
   ],
   "source": [
    "range(len(data))"
   ]
  },
  {
   "cell_type": "code",
   "execution_count": 6,
   "metadata": {},
   "outputs": [
    {
     "data": {
      "text/plain": [
       "'A new technology for producing computer chips invented by Intel Corporation is an example of: Which of the following is an example of public good'"
      ]
     },
     "execution_count": 6,
     "metadata": {},
     "output_type": "execute_result"
    }
   ],
   "source": [
    "data[0][2]"
   ]
  },
  {
   "cell_type": "code",
   "execution_count": 7,
   "metadata": {},
   "outputs": [
    {
     "data": {
      "text/plain": [
       "['A firm in a perfectly competitive market in the short run making losses but continuing in production. This implies that?',\n",
       " 'In a competitive market, in equilibrium, total surplus can be increased by',\n",
       " 'A new technology for producing computer chips invented by Intel Corporation is an example of: Which of the following is an example of public good',\n",
       " 'Negative production externality is the result of',\n",
       " 'A lumpsum tax']"
      ]
     },
     "execution_count": 7,
     "metadata": {},
     "output_type": "execute_result"
    }
   ],
   "source": [
    "corpus = []\n",
    "a = []\n",
    "for i in range(len(data1)):\n",
    "        a = data[0][i]\n",
    "        corpus.append(a)\n",
    "        \n",
    "corpus[0:5]"
   ]
  },
  {
   "cell_type": "code",
   "execution_count": 62,
   "metadata": {},
   "outputs": [
    {
     "data": {
      "text/html": [
       "<div>\n",
       "<style scoped>\n",
       "    .dataframe tbody tr th:only-of-type {\n",
       "        vertical-align: middle;\n",
       "    }\n",
       "\n",
       "    .dataframe tbody tr th {\n",
       "        vertical-align: top;\n",
       "    }\n",
       "\n",
       "    .dataframe thead th {\n",
       "        text-align: right;\n",
       "    }\n",
       "</style>\n",
       "<table border=\"1\" class=\"dataframe\">\n",
       "  <thead>\n",
       "    <tr style=\"text-align: right;\">\n",
       "      <th></th>\n",
       "      <th>0</th>\n",
       "    </tr>\n",
       "  </thead>\n",
       "  <tbody>\n",
       "    <tr>\n",
       "      <th>0</th>\n",
       "      <td>A firm in a perfectly competitive market in th...</td>\n",
       "    </tr>\n",
       "    <tr>\n",
       "      <th>1</th>\n",
       "      <td>In a competitive market, in equilibrium, total...</td>\n",
       "    </tr>\n",
       "    <tr>\n",
       "      <th>2</th>\n",
       "      <td>A new technology for producing computer chips ...</td>\n",
       "    </tr>\n",
       "    <tr>\n",
       "      <th>3</th>\n",
       "      <td>Negative production externality is the result of</td>\n",
       "    </tr>\n",
       "    <tr>\n",
       "      <th>4</th>\n",
       "      <td>A lumpsum tax</td>\n",
       "    </tr>\n",
       "    <tr>\n",
       "      <th>5</th>\n",
       "      <td>the Stackelberg model of duopoly, if both the ...</td>\n",
       "    </tr>\n",
       "    <tr>\n",
       "      <th>6</th>\n",
       "      <td>Purchasing Power Parity (PPP) is used in the c...</td>\n",
       "    </tr>\n",
       "    <tr>\n",
       "      <th>7</th>\n",
       "      <td>Difference between GDP and GNP is</td>\n",
       "    </tr>\n",
       "    <tr>\n",
       "      <th>8</th>\n",
       "      <td>Suppose annual growth rate of Nominal GDP, Rea...</td>\n",
       "    </tr>\n",
       "    <tr>\n",
       "      <th>9</th>\n",
       "      <td>Money multiplier determines</td>\n",
       "    </tr>\n",
       "  </tbody>\n",
       "</table>\n",
       "</div>"
      ],
      "text/plain": [
       "                                                   0\n",
       "0  A firm in a perfectly competitive market in th...\n",
       "1  In a competitive market, in equilibrium, total...\n",
       "2  A new technology for producing computer chips ...\n",
       "3   Negative production externality is the result of\n",
       "4                                      A lumpsum tax\n",
       "5  the Stackelberg model of duopoly, if both the ...\n",
       "6  Purchasing Power Parity (PPP) is used in the c...\n",
       "7                  Difference between GDP and GNP is\n",
       "8  Suppose annual growth rate of Nominal GDP, Rea...\n",
       "9                        Money multiplier determines"
      ]
     },
     "execution_count": 62,
     "metadata": {},
     "output_type": "execute_result"
    }
   ],
   "source": [
    "import pandas as pd\n",
    "#quest = pd.read_csv(data, encoding='latin1')\n",
    "quest=data\n",
    "quest.head(10)"
   ]
  },
  {
   "cell_type": "code",
   "execution_count": 8,
   "metadata": {},
   "outputs": [
    {
     "name": "stdout",
     "output_type": "stream",
     "text": [
      "Folder \"/tmp\" will be used to save temporary dictionary and corpus.\n"
     ]
    }
   ],
   "source": [
    "import gensim\n",
    "import logging\n",
    "import tempfile\n",
    "\n",
    "TEMP_FOLDER = tempfile.gettempdir()\n",
    "print('Folder \"{}\" will be used to save temporary dictionary and corpus.'.format(TEMP_FOLDER))\n",
    "\n",
    "from gensim import corpora\n",
    "logging.basicConfig(format='%(asctime)s : %(levelname)s : %(message)s', level=logging.INFO)"
   ]
  },
  {
   "cell_type": "code",
   "execution_count": 9,
   "metadata": {},
   "outputs": [],
   "source": [
    "from nltk.corpus import stopwords\n",
    "from string import punctuation\n",
    "\n",
    "# remove common words and tokenize\n",
    "list1 = ['RT','rt']\n",
    "stoplist = stopwords.words('english') + list(punctuation) + list1\n",
    "\n",
    "texts = [[word for word in str(document).lower().split() if word not in stoplist] for document in corpus]"
   ]
  },
  {
   "cell_type": "code",
   "execution_count": 10,
   "metadata": {},
   "outputs": [
    {
     "name": "stderr",
     "output_type": "stream",
     "text": [
      "2019-03-08 14:28:57,344 : INFO : adding document #0 to Dictionary(0 unique tokens: [])\n",
      "2019-03-08 14:28:57,349 : INFO : built Dictionary(187 unique tokens: ['competitive', 'continuing', 'firm', 'implies', 'losses']...) from 32 documents (total 234 corpus positions)\n",
      "2019-03-08 14:28:57,351 : INFO : saving Dictionary object under /tmp/quest.dict, separately None\n",
      "2019-03-08 14:28:57,391 : INFO : saved /tmp/quest.dict\n"
     ]
    }
   ],
   "source": [
    "dictionary = corpora.Dictionary(texts)\n",
    "dictionary.save(os.path.join(TEMP_FOLDER, 'quest.dict'))  # store the dictionary, for future reference\n",
    "#print(dictionary)"
   ]
  },
  {
   "cell_type": "code",
   "execution_count": 11,
   "metadata": {},
   "outputs": [
    {
     "name": "stderr",
     "output_type": "stream",
     "text": [
      "2019-03-08 14:28:59,527 : INFO : storing corpus in Matrix Market format to /tmp/quest.mm\n",
      "2019-03-08 14:28:59,531 : INFO : saving sparse matrix to /tmp/quest.mm\n",
      "2019-03-08 14:28:59,532 : INFO : PROGRESS: saving document #0\n",
      "2019-03-08 14:28:59,536 : INFO : saved 32x187 matrix, density=3.710% (222/5984)\n",
      "2019-03-08 14:28:59,539 : INFO : saving MmCorpus index to /tmp/quest.mm.index\n"
     ]
    }
   ],
   "source": [
    "corpus = [dictionary.doc2bow(text) for text in texts]\n",
    "corpora.MmCorpus.serialize(os.path.join(TEMP_FOLDER, 'quest.mm'), corpus)  # store to disk, for later use"
   ]
  },
  {
   "cell_type": "code",
   "execution_count": 12,
   "metadata": {},
   "outputs": [],
   "source": [
    "from gensim import corpora, models, similarities"
   ]
  },
  {
   "cell_type": "code",
   "execution_count": 13,
   "metadata": {},
   "outputs": [
    {
     "name": "stderr",
     "output_type": "stream",
     "text": [
      "2019-03-08 14:29:03,975 : INFO : collecting document frequencies\n",
      "2019-03-08 14:29:03,978 : INFO : PROGRESS: processing document #0\n",
      "2019-03-08 14:29:03,980 : INFO : calculating IDF weights for 32 documents and 186 features (222 matrix non-zeros)\n"
     ]
    }
   ],
   "source": [
    "tfidf = models.TfidfModel(corpus) # step 1 -- initialize a model"
   ]
  },
  {
   "cell_type": "code",
   "execution_count": 14,
   "metadata": {},
   "outputs": [],
   "source": [
    "corpus_tfidf = tfidf[corpus]  # step 2 -- use the model to transform vectors"
   ]
  },
  {
   "cell_type": "code",
   "execution_count": 15,
   "metadata": {},
   "outputs": [
    {
     "name": "stderr",
     "output_type": "stream",
     "text": [
      "2019-03-08 14:29:12,119 : INFO : using symmetric alpha at 0.2\n",
      "2019-03-08 14:29:12,121 : INFO : using symmetric eta at 0.2\n",
      "2019-03-08 14:29:12,123 : INFO : using serial LDA version on this node\n",
      "2019-03-08 14:29:12,124 : INFO : running online (single-pass) LDA training, 5 topics, 1 passes over the supplied corpus of 32 documents, updating model once every 32 documents, evaluating perplexity every 32 documents, iterating 50x with a convergence threshold of 0.001000\n",
      "2019-03-08 14:29:12,126 : WARNING : too few updates, training might not converge; consider increasing the number of passes or iterations to improve accuracy\n",
      "2019-03-08 14:29:12,231 : INFO : -8.773 per-word bound, 437.6 perplexity estimate based on a held-out corpus of 32 documents with 234 words\n",
      "2019-03-08 14:29:12,234 : INFO : PROGRESS: pass 0, at document #32/32\n",
      "2019-03-08 14:29:12,291 : INFO : topic #0 (0.200): 0.030*\"according\" + 0.021*\"manufacturing\" + 0.021*\"year\" + 0.021*\"domestic\" + 0.021*\"deficit\" + 0.021*\"money\" + 0.021*\"interest\" + 0.013*\"rate\" + 0.013*\"india’s\" + 0.013*\"real\"\n",
      "2019-03-08 14:29:12,293 : INFO : topic #1 (0.200): 0.030*\"example\" + 0.017*\"following\" + 0.017*\"intel\" + 0.017*\"corporation\" + 0.017*\"invented\" + 0.017*\"of:\" + 0.017*\"chips\" + 0.017*\"new\" + 0.017*\"computer\" + 0.017*\"public\"\n",
      "2019-03-08 14:29:12,295 : INFO : topic #2 (0.200): 0.032*\"investment\" + 0.032*\"tax\" + 0.031*\"increases\" + 0.018*\"according\" + 0.018*\"shape\" + 0.018*\"long-run\" + 0.018*\"curve\" + 0.018*\"friedman\" + 0.018*\"phillip’s\" + 0.018*\"credit\"\n",
      "2019-03-08 14:29:12,297 : INFO : topic #3 (0.200): 0.036*\"india\" + 0.020*\"public\" + 0.020*\"sector\" + 0.020*\"privatization\" + 0.020*\"manifest\" + 0.020*\"dominant\" + 0.020*\"enterprises\" + 0.020*\"surplus\" + 0.020*\"equilibrium,\" + 0.020*\"total\"\n",
      "2019-03-08 14:29:12,300 : INFO : topic #4 (0.200): 0.027*\"rate\" + 0.019*\"factor\" + 0.019*\"marginal\" + 0.019*\"country\" + 0.019*\"multiplier\" + 0.018*\"gdp\" + 0.018*\"respectively\" + 0.018*\"growth\" + 0.018*\"real\" + 0.018*\"gdp,\"\n",
      "2019-03-08 14:29:12,302 : INFO : topic diff=3.150971, rho=1.000000\n"
     ]
    }
   ],
   "source": [
    "total_topics = 5\n",
    "lda = models.LdaModel(corpus, id2word=dictionary, num_topics=total_topics)\n",
    "corpus_lda = lda[corpus_tfidf] # create a double wrapper over the original corpus: bow->tfidf->fold-in-lsi\n"
   ]
  },
  {
   "cell_type": "code",
   "execution_count": 16,
   "metadata": {},
   "outputs": [
    {
     "data": {
      "text/plain": [
       "[(0,\n",
       "  '0.030*\"according\" + 0.021*\"manufacturing\" + 0.021*\"year\" + 0.021*\"domestic\" + 0.021*\"deficit\"'),\n",
       " (1,\n",
       "  '0.030*\"example\" + 0.017*\"following\" + 0.017*\"intel\" + 0.017*\"corporation\" + 0.017*\"invented\"'),\n",
       " (2,\n",
       "  '0.032*\"investment\" + 0.032*\"tax\" + 0.031*\"increases\" + 0.018*\"according\" + 0.018*\"shape\"'),\n",
       " (3,\n",
       "  '0.036*\"india\" + 0.020*\"public\" + 0.020*\"sector\" + 0.020*\"privatization\" + 0.020*\"manifest\"'),\n",
       " (4,\n",
       "  '0.027*\"rate\" + 0.019*\"factor\" + 0.019*\"marginal\" + 0.019*\"country\" + 0.019*\"multiplier\"')]"
      ]
     },
     "execution_count": 16,
     "metadata": {},
     "output_type": "execute_result"
    }
   ],
   "source": [
    "lda.show_topics(total_topics,5)"
   ]
  },
  {
   "cell_type": "code",
   "execution_count": 17,
   "metadata": {},
   "outputs": [],
   "source": [
    "from collections import OrderedDict\n",
    "\n",
    "data_lda = {i: OrderedDict(lda.show_topic(i,25)) for i in range(total_topics)}"
   ]
  },
  {
   "cell_type": "code",
   "execution_count": 18,
   "metadata": {},
   "outputs": [
    {
     "name": "stdout",
     "output_type": "stream",
     "text": [
      "(112, 5)\n",
      "(5, 112)\n"
     ]
    }
   ],
   "source": [
    "import pandas as pd\n",
    "\n",
    "df_lda = pd.DataFrame(data_lda)\n",
    "print(df_lda.shape)\n",
    "df_lda = df_lda.fillna(0).T\n",
    "print(df_lda.shape)"
   ]
  },
  {
   "cell_type": "code",
   "execution_count": 19,
   "metadata": {},
   "outputs": [
    {
     "data": {
      "text/html": [
       "<div>\n",
       "<style scoped>\n",
       "    .dataframe tbody tr th:only-of-type {\n",
       "        vertical-align: middle;\n",
       "    }\n",
       "\n",
       "    .dataframe tbody tr th {\n",
       "        vertical-align: top;\n",
       "    }\n",
       "\n",
       "    .dataframe thead th {\n",
       "        text-align: right;\n",
       "    }\n",
       "</style>\n",
       "<table border=\"1\" class=\"dataframe\">\n",
       "  <thead>\n",
       "    <tr style=\"text-align: right;\">\n",
       "      <th></th>\n",
       "      <th>(ppp)</th>\n",
       "      <th>2011,</th>\n",
       "      <th>2022</th>\n",
       "      <th>according</th>\n",
       "      <th>along</th>\n",
       "      <th>announced</th>\n",
       "      <th>behave</th>\n",
       "      <th>call</th>\n",
       "      <th>chips</th>\n",
       "      <th>collapsed</th>\n",
       "      <th>...</th>\n",
       "      <th>targeted</th>\n",
       "      <th>tax</th>\n",
       "      <th>technology</th>\n",
       "      <th>theorem,</th>\n",
       "      <th>total</th>\n",
       "      <th>trade</th>\n",
       "      <th>two</th>\n",
       "      <th>unemployment</th>\n",
       "      <th>used</th>\n",
       "      <th>year</th>\n",
       "    </tr>\n",
       "  </thead>\n",
       "  <tbody>\n",
       "    <tr>\n",
       "      <th>0</th>\n",
       "      <td>0.000000</td>\n",
       "      <td>0.011412</td>\n",
       "      <td>0.011407</td>\n",
       "      <td>0.030394</td>\n",
       "      <td>0.00000</td>\n",
       "      <td>0.011405</td>\n",
       "      <td>0.000000</td>\n",
       "      <td>0.000000</td>\n",
       "      <td>0.000000</td>\n",
       "      <td>0.000000</td>\n",
       "      <td>...</td>\n",
       "      <td>0.011408</td>\n",
       "      <td>0.000000</td>\n",
       "      <td>0.000000</td>\n",
       "      <td>0.000000</td>\n",
       "      <td>0.000000</td>\n",
       "      <td>0.011402</td>\n",
       "      <td>0.0114</td>\n",
       "      <td>0.000000</td>\n",
       "      <td>0.000000</td>\n",
       "      <td>0.020913</td>\n",
       "    </tr>\n",
       "    <tr>\n",
       "      <th>1</th>\n",
       "      <td>0.000000</td>\n",
       "      <td>0.000000</td>\n",
       "      <td>0.000000</td>\n",
       "      <td>0.000000</td>\n",
       "      <td>0.00000</td>\n",
       "      <td>0.000000</td>\n",
       "      <td>0.016498</td>\n",
       "      <td>0.000000</td>\n",
       "      <td>0.016543</td>\n",
       "      <td>0.000000</td>\n",
       "      <td>...</td>\n",
       "      <td>0.000000</td>\n",
       "      <td>0.000000</td>\n",
       "      <td>0.016538</td>\n",
       "      <td>0.000000</td>\n",
       "      <td>0.000000</td>\n",
       "      <td>0.000000</td>\n",
       "      <td>0.0000</td>\n",
       "      <td>0.000000</td>\n",
       "      <td>0.000000</td>\n",
       "      <td>0.000000</td>\n",
       "    </tr>\n",
       "    <tr>\n",
       "      <th>2</th>\n",
       "      <td>0.000000</td>\n",
       "      <td>0.000000</td>\n",
       "      <td>0.000000</td>\n",
       "      <td>0.017789</td>\n",
       "      <td>0.01653</td>\n",
       "      <td>0.000000</td>\n",
       "      <td>0.000000</td>\n",
       "      <td>0.016681</td>\n",
       "      <td>0.000000</td>\n",
       "      <td>0.016236</td>\n",
       "      <td>...</td>\n",
       "      <td>0.000000</td>\n",
       "      <td>0.032389</td>\n",
       "      <td>0.000000</td>\n",
       "      <td>0.000000</td>\n",
       "      <td>0.000000</td>\n",
       "      <td>0.000000</td>\n",
       "      <td>0.0000</td>\n",
       "      <td>0.016257</td>\n",
       "      <td>0.000000</td>\n",
       "      <td>0.015997</td>\n",
       "    </tr>\n",
       "    <tr>\n",
       "      <th>3</th>\n",
       "      <td>0.015047</td>\n",
       "      <td>0.000000</td>\n",
       "      <td>0.000000</td>\n",
       "      <td>0.000000</td>\n",
       "      <td>0.00000</td>\n",
       "      <td>0.000000</td>\n",
       "      <td>0.000000</td>\n",
       "      <td>0.000000</td>\n",
       "      <td>0.000000</td>\n",
       "      <td>0.000000</td>\n",
       "      <td>...</td>\n",
       "      <td>0.000000</td>\n",
       "      <td>0.000000</td>\n",
       "      <td>0.000000</td>\n",
       "      <td>0.000000</td>\n",
       "      <td>0.019605</td>\n",
       "      <td>0.000000</td>\n",
       "      <td>0.0000</td>\n",
       "      <td>0.000000</td>\n",
       "      <td>0.016491</td>\n",
       "      <td>0.000000</td>\n",
       "    </tr>\n",
       "    <tr>\n",
       "      <th>4</th>\n",
       "      <td>0.000000</td>\n",
       "      <td>0.000000</td>\n",
       "      <td>0.000000</td>\n",
       "      <td>0.010450</td>\n",
       "      <td>0.00000</td>\n",
       "      <td>0.000000</td>\n",
       "      <td>0.000000</td>\n",
       "      <td>0.000000</td>\n",
       "      <td>0.000000</td>\n",
       "      <td>0.000000</td>\n",
       "      <td>...</td>\n",
       "      <td>0.000000</td>\n",
       "      <td>0.000000</td>\n",
       "      <td>0.000000</td>\n",
       "      <td>0.010415</td>\n",
       "      <td>0.010425</td>\n",
       "      <td>0.000000</td>\n",
       "      <td>0.0000</td>\n",
       "      <td>0.000000</td>\n",
       "      <td>0.000000</td>\n",
       "      <td>0.000000</td>\n",
       "    </tr>\n",
       "  </tbody>\n",
       "</table>\n",
       "<p>5 rows × 112 columns</p>\n",
       "</div>"
      ],
      "text/plain": [
       "      (ppp)     2011,      2022  according    along  announced    behave  \\\n",
       "0  0.000000  0.011412  0.011407   0.030394  0.00000   0.011405  0.000000   \n",
       "1  0.000000  0.000000  0.000000   0.000000  0.00000   0.000000  0.016498   \n",
       "2  0.000000  0.000000  0.000000   0.017789  0.01653   0.000000  0.000000   \n",
       "3  0.015047  0.000000  0.000000   0.000000  0.00000   0.000000  0.000000   \n",
       "4  0.000000  0.000000  0.000000   0.010450  0.00000   0.000000  0.000000   \n",
       "\n",
       "       call     chips  collapsed    ...     targeted       tax  technology  \\\n",
       "0  0.000000  0.000000   0.000000    ...     0.011408  0.000000    0.000000   \n",
       "1  0.000000  0.016543   0.000000    ...     0.000000  0.000000    0.016538   \n",
       "2  0.016681  0.000000   0.016236    ...     0.000000  0.032389    0.000000   \n",
       "3  0.000000  0.000000   0.000000    ...     0.000000  0.000000    0.000000   \n",
       "4  0.000000  0.000000   0.000000    ...     0.000000  0.000000    0.000000   \n",
       "\n",
       "   theorem,     total     trade     two  unemployment      used      year  \n",
       "0  0.000000  0.000000  0.011402  0.0114      0.000000  0.000000  0.020913  \n",
       "1  0.000000  0.000000  0.000000  0.0000      0.000000  0.000000  0.000000  \n",
       "2  0.000000  0.000000  0.000000  0.0000      0.016257  0.000000  0.015997  \n",
       "3  0.000000  0.019605  0.000000  0.0000      0.000000  0.016491  0.000000  \n",
       "4  0.010415  0.010425  0.000000  0.0000      0.000000  0.000000  0.000000  \n",
       "\n",
       "[5 rows x 112 columns]"
      ]
     },
     "execution_count": 19,
     "metadata": {},
     "output_type": "execute_result"
    }
   ],
   "source": [
    "df_lda"
   ]
  },
  {
   "cell_type": "code",
   "execution_count": 20,
   "metadata": {},
   "outputs": [
    {
     "data": {
      "image/png": "[encoded data removed]",
      "text/plain": [
       "<Figure size 864x864 with 4 Axes>"
      ]
     },
     "metadata": {
      "needs_background": "light"
     },
     "output_type": "display_data"
    }
   ],
   "source": [
    "import seaborn as sns\n",
    "import matplotlib.pyplot as plt\n",
    "%matplotlib inline\n",
    "\n",
    "g=sns.clustermap(df_lda.corr(), center=0, cmap=\"RdBu\", metric='cosine', linewidths=.75, figsize=(12, 12))\n",
    "plt.setp(g.ax_heatmap.yaxis.get_majorticklabels(), rotation=0)\n",
    "plt.show()\n",
    "#plt.setp(ax_heatmap.get_yticklabels(), rotation=0)  # For y axis"
   ]
  },
  {
   "cell_type": "code",
   "execution_count": 21,
   "metadata": {},
   "outputs": [
    {
     "name": "stdout",
     "output_type": "stream",
     "text": [
      "Dictionary(187 unique tokens: ['competitive', 'continuing', 'firm', 'implies', 'losses']...)\n",
      "<class 'gensim.corpora.dictionary.Dictionary'>\n"
     ]
    }
   ],
   "source": [
    "print(dictionary)\n",
    "print(type(dictionary))"
   ]
  },
  {
   "cell_type": "code",
   "execution_count": 22,
   "metadata": {},
   "outputs": [
    {
     "data": {
      "text/html": [
       "\n",
       "<link rel=\"stylesheet\" type=\"text/css\" href=\"https://cdn.rawgit.com/bmabey/pyLDAvis/files/ldavis.v1.0.0.css\">\n",
       "\n",
       "\n",
       "<div id=\"ldavis_el4482140523373647936705659196\"></div>\n",
       "<script type=\"text/javascript\">\n",
       "\n",
       "var ldavis_el4482140523373647936705659196_data = {\"mdsDat\": {\"x\": [147.88291931152344, 98.105224609375, -35.18876647949219, 52.588741302490234, -41.98775863647461], \"y\": [-45.60842514038086, 80.2819595336914, -45.21644592285156, -148.79248046875, 90.38018798828125], \"topics\": [1, 2, 3, 4, 5], \"cluster\": [1, 1, 1, 1, 1], \"Freq\": [55.881927490234375, 14.10665512084961, 10.004409790039062, 10.004117965698242, 10.002890586853027]}, \"tinfo\": {\"Category\": [\"Default\", \"Default\", \"Default\", \"Default\", \"Default\", \"Default\", \"Default\", \"Default\", \"Default\", \"Default\", \"Default\", \"Default\", \"Default\", \"Default\", \"Default\", \"Default\", \"Default\", \"Default\", \"Default\", \"Default\", \"Default\", \"Default\", \"Default\", \"Default\", \"Default\", \"Default\", \"Default\", \"Default\", \"Default\", \"Default\", \"Topic1\", \"Topic1\", \"Topic1\", \"Topic1\", \"Topic1\", \"Topic1\", \"Topic1\", \"Topic1\", \"Topic1\", \"Topic1\", \"Topic1\", \"Topic1\", \"Topic1\", \"Topic1\", \"Topic1\", \"Topic1\", \"Topic1\", \"Topic1\", \"Topic1\", \"Topic1\", \"Topic1\", \"Topic1\", \"Topic1\", \"Topic1\", \"Topic1\", \"Topic1\", \"Topic1\", \"Topic1\", \"Topic1\", \"Topic1\", \"Topic1\", \"Topic1\", \"Topic1\", \"Topic1\", \"Topic1\", \"Topic1\", \"Topic1\", \"Topic1\", \"Topic1\", \"Topic1\", \"Topic2\", \"Topic2\", \"Topic2\", \"Topic2\", \"Topic2\", \"Topic2\", \"Topic2\", \"Topic2\", \"Topic2\", \"Topic2\", \"Topic2\", \"Topic2\", \"Topic2\", \"Topic2\", \"Topic2\", \"Topic2\", \"Topic2\", \"Topic2\", \"Topic2\", \"Topic2\", \"Topic2\", \"Topic2\", \"Topic2\", \"Topic2\", \"Topic2\", \"Topic2\", \"Topic2\", \"Topic2\", \"Topic2\", \"Topic2\", \"Topic2\", \"Topic2\", \"Topic2\", \"Topic2\", \"Topic2\", \"Topic2\", \"Topic2\", \"Topic2\", \"Topic3\", \"Topic3\", \"Topic3\", \"Topic3\", \"Topic3\", \"Topic3\", \"Topic3\", \"Topic3\", \"Topic3\", \"Topic3\", \"Topic3\", \"Topic3\", \"Topic3\", \"Topic3\", \"Topic3\", \"Topic3\", \"Topic3\", \"Topic3\", \"Topic3\", \"Topic3\", \"Topic3\", \"Topic3\", \"Topic3\", \"Topic3\", \"Topic3\", \"Topic3\", \"Topic3\", \"Topic3\", \"Topic3\", \"Topic3\", \"Topic3\", \"Topic3\", \"Topic3\", \"Topic4\", \"Topic4\", \"Topic4\", \"Topic4\", \"Topic4\", \"Topic4\", \"Topic4\", \"Topic4\", \"Topic4\", \"Topic4\", \"Topic4\", \"Topic4\", \"Topic4\", \"Topic4\", \"Topic4\", \"Topic4\", \"Topic4\", \"Topic4\", \"Topic4\", \"Topic4\", \"Topic4\", \"Topic4\", \"Topic4\", \"Topic4\", \"Topic4\", \"Topic4\", \"Topic4\", \"Topic4\", \"Topic4\", \"Topic4\", \"Topic4\", \"Topic4\", \"Topic4\", \"Topic5\", \"Topic5\", \"Topic5\", \"Topic5\", \"Topic5\", \"Topic5\", \"Topic5\", \"Topic5\", \"Topic5\", \"Topic5\", \"Topic5\", \"Topic5\", \"Topic5\", \"Topic5\", \"Topic5\", \"Topic5\", \"Topic5\", \"Topic5\", \"Topic5\", \"Topic5\", \"Topic5\", \"Topic5\", \"Topic5\", \"Topic5\", \"Topic5\", \"Topic5\", \"Topic5\", \"Topic5\", \"Topic5\", \"Topic5\", \"Topic5\", \"Topic5\", \"Topic5\", \"Topic5\", \"Topic5\", \"Topic5\", \"Topic5\", \"Topic5\"], \"Freq\": [0.0, 0.0, 0.0, 0.0, 0.0, 0.0, 0.0, 0.0, 0.0, 0.0, 0.0, 0.0, 0.0, 0.0, 0.0, 0.0, 0.0, 0.0, 0.0, 0.0, 0.0, 0.0, 0.0, 0.0, 0.0, 0.0, 0.0, 0.0, 0.0, 0.0, 0.34141111373901367, 0.34129270911216736, 0.3407478928565979, 0.3406412899494171, 0.32656121253967285, 0.47719982266426086, 0.1862618327140808, 0.18624168634414673, 0.1862344592809677, 0.18622876703739166, 0.18623226881027222, 0.18622635304927826, 0.18621641397476196, 0.1862253099679947, 0.18620800971984863, 0.1861961930990219, 0.186187282204628, 0.18618005514144897, 0.18618009984493256, 0.186173677444458, 0.18613408505916595, 0.1861102133989334, 0.1861143708229065, 0.18612012267112732, 0.18609030544757843, 0.18607473373413086, 0.18606719374656677, 0.1859789490699768, 0.1859174221754074, 0.18593968451023102, 0.3228759765625, 0.32128193974494934, 0.32310786843299866, 0.3275930881500244, 0.18648339807987213, 0.18686749041080475, 0.1864727884531021, 0.18642504513263702, 0.18625031411647797, 0.18614713847637177, 0.0886145606637001, 0.08860806375741959, 0.08855073899030685, 0.08856359124183655, 0.08853836357593536, 0.08851328492164612, 0.08851423114538193, 0.08846106380224228, 0.08847098052501678, 0.08843681216239929, 0.08843814581632614, 0.08839128911495209, 0.08828381448984146, 0.07444123923778534, 0.0726969838142395, 0.07237628102302551, 0.07023125141859055, 0.06792193651199341, 0.0661364197731018, 0.0886920914053917, 0.16230452060699463, 0.08849479258060455, 0.08849774301052094, 0.08845686167478561, 0.014993769116699696, 0.014969099313020706, 0.014924856834113598, 0.014927373267710209, 0.01491506863385439, 0.0149088678881526, 0.01492986362427473, 0.015044845640659332, 0.01509947795420885, 0.014982087537646294, 0.015040826052427292, 0.015204851515591145, 0.015040694735944271, 0.015011664479970932, 0.10394581407308578, 0.10369133204221725, 0.0992407575249672, 0.05683785304427147, 0.05680922418832779, 0.056793875992298126, 0.05678367242217064, 0.0567588247358799, 0.05672958120703697, 0.05639025196433067, 0.05340176448225975, 0.05329747125506401, 0.05291920155286789, 0.05272978916764259, 0.05269058793783188, 0.0525960735976696, 0.052267298102378845, 0.05207231640815735, 0.05204428359866142, 0.05197715759277344, 0.05189720541238785, 0.05144171044230461, 0.050984274595975876, 0.050563376396894455, 0.05007242038846016, 0.05261910334229469, 0.05121207609772682, 0.05695066973567009, 0.048425108194351196, 0.009577114135026932, 0.009589058347046375, 0.009680341929197311, 0.009729542769491673, 0.09707556664943695, 0.052980247884988785, 0.052976418286561966, 0.05296662822365761, 0.05296673625707626, 0.052965983748435974, 0.05295833200216293, 0.05295972153544426, 0.052956629544496536, 0.05294465646147728, 0.052938416600227356, 0.05293940752744675, 0.05288361385464668, 0.052880093455314636, 0.05286381021142006, 0.052852563560009, 0.05282871052622795, 0.052814584225416183, 0.0527871698141098, 0.049872834235429764, 0.04931653290987015, 0.04927965626120567, 0.049082763493061066, 0.048419039696455, 0.048149533569812775, 0.04775194451212883, 0.05272511765360832, 0.047577355057001114, 0.052719589322805405, 0.05295538902282715, 0.05270329490303993, 0.04898170381784439, 0.0486968457698822, 0.06696120649576187, 0.06688876450061798, 0.06686783581972122, 0.06668093055486679, 0.06694043427705765, 0.0365302748978138, 0.036515649408102036, 0.03651294857263565, 0.03651270642876625, 0.03650721535086632, 0.03650577366352081, 0.036505941301584244, 0.03650620952248573, 0.036497388035058975, 0.036499444395303726, 0.036497652530670166, 0.03648913651704788, 0.03649163618683815, 0.03648993372917175, 0.036489877849817276, 0.03649095445871353, 0.03648204356431961, 0.036471541970968246, 0.03646961599588394, 0.0364624485373497, 0.03646498918533325, 0.03645864129066467, 0.036458298563957214, 0.036455001682043076, 0.03645652160048485, 0.09728731215000153, 0.06675256043672562, 0.040257714688777924, 0.04008542373776436, 0.04029001295566559, 0.03943454474210739, 0.0365048386156559, 0.036484941840171814], \"Term\": [\"india\", \"according\", \"investment\", \"tax\", \"increases\", \"example\", \"year\", \"public\", \"money\", \"overall\", \"manufacturing\", \"domestic\", \"deficit\", \"interest\", \"sector\", \"privatization\", \"manifest\", \"difference\", \"dominant\", \"enterprises\", \"surplus\", \"equilibrium,\", \"form\", \"increased\", \"government\", \"important\", \"market,\", \"revenue\", \"gdp\", \"india\\u2019s\", \"factor\", \"marginal\", \"country\", \"multiplier\", \"respectively\", \"rate\", \"sum\", \"short\", \"theorem,\", \"firm\", \"payments\", \"production.\", \"losses\", \"market\", \"implies\", \"euler\\u2019s\", \"product\", \"that?\", \"output\", \"making\", \"run\", \"value\", \"propensity\", \"continuing\", \"consume\", \"balanced\", \"0.75,\", \"if,\", \"perfectly\", \"fdi\", \"real\", \"gdp,\", \"growth\", \"gdp\", \"production\", \"according\", \"competitive\", \"total\", \"paid\", \"equal\", \"sector\", \"privatization\", \"dominant\", \"manifest\", \"enterprises\", \"equilibrium,\", \"surplus\", \"increased\", \"form\", \"important\", \"government\", \"market,\", \"revenue\", \"used\", \"purchasing\", \"power\", \"parity\", \"(ppp)\", \"context\", \"public\", \"india\", \"source\", \"total\", \"competitive\", \"foreigners\", \"borrowings\", \"theory,\", \"fiscal\", \"depends\", \"known\", \"supply\", \"interest\", \"tax\", \"lumpsum\", \"difference\", \"money\", \"investment\", \"gdp\", \"investment\", \"tax\", \"increases\", \"shape\", \"long-run\", \"curve\", \"friedman\", \"phillip\\u2019s\", \"credit\", \"lumpsum\", \"call\", \"high\", \"along\", \"system\", \"rate.\", \"slowing\", \"situation:\", \"economy\", \"unemployment\", \"collapsed\", \"persistent\", \"level\", \"price\", \"bretton\\u2013woods\", \"finally\", \"overall\", \"year\", \"according\", \"growth\", \"known\", \"borrowings\", \"interest\", \"money\", \"example\", \"following\", \"intel\", \"invented\", \"corporation\", \"of:\", \"new\", \"chips\", \"computer\", \"technology\", \"producing\", \"good\", \"stackelberg\", \"duopoly,\", \"firms\", \"followers,\", \"model\", \"behave\", \"gnp\", \"measured\", \"gross\", \"expenditure\", \"research\", \"intensity,\", \"r&d\", \"cent\", \"difference\", \"india\\u2019s\", \"overall\", \"public\", \"gdp\", \"per\", \"gdp,\", \"manufacturing\", \"domestic\", \"deficit\", \"interest\", \"year\", \"2011,\", \"targeted\", \"policy\", \"2022\", \"one\", \"announced\", \"national\", \"deficits\", \"share\", \"exceeds\", \"trade\", \"observe\", \"investments\", \"would\", \"contributed\", \"two\", \"holding\", \"savings,\", \"items\", \"balance\", \"consumption\", \"cost\", \"equals\", \"2012\\u201313\", \"household\", \"according\", \"money\", \"india\\u2019s\", \"real\", \"rate\", \"gdp\", \"difference\", \"paid\"], \"Total\": [0.0, 0.0, 0.0, 0.0, 0.0, 0.0, 0.0, 0.0, 0.0, 0.0, 0.0, 0.0, 0.0, 0.0, 0.0, 0.0, 0.0, 0.0, 0.0, 0.0, 0.0, 0.0, 0.0, 0.0, 0.0, 0.0, 0.0, 0.0, 0.0, 0.0, 0.3807792365550995, 0.3806926906108856, 0.380319744348526, 0.38025233149528503, 0.36882081627845764, 0.5510106086730957, 0.22555314004421234, 0.2255374789237976, 0.2255319505929947, 0.22552652657032013, 0.22553369402885437, 0.22552703320980072, 0.22551865875720978, 0.22553086280822754, 0.22551622986793518, 0.22550751268863678, 0.2255009561777115, 0.22549282014369965, 0.2254980057477951, 0.22549249231815338, 0.2254626452922821, 0.22544193267822266, 0.22545062005519867, 0.22545866668224335, 0.22543039917945862, 0.22542446851730347, 0.22541886568069458, 0.22534909844398499, 0.22530587017536163, 0.22533462941646576, 0.396461546421051, 0.40745675563812256, 0.4129319489002228, 0.44435471296310425, 0.256303995847702, 0.3650813698768616, 0.2995317280292511, 0.29951465129852295, 0.2561070919036865, 0.2560506761074066, 0.14426539838314056, 0.14426571130752563, 0.14425836503505707, 0.14428873360157013, 0.14428593218326569, 0.1442568302154541, 0.14426308870315552, 0.14424780011177063, 0.1442776471376419, 0.14423149824142456, 0.14427421987056732, 0.14426074922084808, 0.14425329864025116, 0.13595151901245117, 0.1349450945854187, 0.13487571477890015, 0.13355860114097595, 0.13220693171024323, 0.13114750385284424, 0.18853850662708282, 0.3730931282043457, 0.29927852749824524, 0.29951465129852295, 0.2995317280292511, 0.10122892260551453, 0.10125009715557098, 0.10103602707386017, 0.10109402239322662, 0.10106274485588074, 0.10106685757637024, 0.10122938454151154, 0.1318458616733551, 0.16572551429271698, 0.1181182861328125, 0.14549784362316132, 0.2864401936531067, 0.16551807522773743, 0.44435471296310425, 0.16551807522773743, 0.16572551429271698, 0.19596891105175018, 0.11783710867166519, 0.11787441372871399, 0.11786225438117981, 0.1178741529583931, 0.11789560317993164, 0.11791640520095825, 0.1181182861328125, 0.11755398660898209, 0.11755997687578201, 0.11752128601074219, 0.11750216782093048, 0.1175081729888916, 0.11751050502061844, 0.11748771369457245, 0.11747317761182785, 0.11746776849031448, 0.11745873093605042, 0.11745954304933548, 0.11743225902318954, 0.11739286035299301, 0.11737487465143204, 0.11734175682067871, 0.16044531762599945, 0.17855821549892426, 0.3650813698768616, 0.4129319489002228, 0.10106685757637024, 0.10125009715557098, 0.1318458616733551, 0.2864401936531067, 0.15879039466381073, 0.11452566832304001, 0.11454246938228607, 0.1145300418138504, 0.11454875767230988, 0.11454985290765762, 0.11454055458307266, 0.11454879492521286, 0.1145620048046112, 0.11456058919429779, 0.11456096917390823, 0.11456906795501709, 0.1145893931388855, 0.11460256576538086, 0.11463847011327744, 0.11462655663490295, 0.11462073028087616, 0.11467529833316803, 0.11466578394174576, 0.11360107362270355, 0.11342808604240417, 0.11339612305164337, 0.11334831267595291, 0.11315758526325226, 0.113086998462677, 0.11296248435974121, 0.14549784362316132, 0.14344847202301025, 0.16044531762599945, 0.18853850662708282, 0.44435471296310425, 0.26156479120254517, 0.40745675563812256, 0.13142165541648865, 0.13153401017189026, 0.1315617561340332, 0.1318458616733551, 0.17855821549892426, 0.1008630245923996, 0.100868359208107, 0.10087933391332626, 0.10089091956615448, 0.10088296234607697, 0.10089672356843948, 0.10089974105358124, 0.10090698301792145, 0.10089336335659027, 0.10091130435466766, 0.1009184867143631, 0.10090462118387222, 0.10091805458068848, 0.10091705620288849, 0.1009194552898407, 0.10092748701572418, 0.10096002370119095, 0.10094374418258667, 0.10096423327922821, 0.10095467418432236, 0.10096987336874008, 0.10097721219062805, 0.10098545253276825, 0.10097652673721313, 0.1009945273399353, 0.3650813698768616, 0.2864401936531067, 0.14344847202301025, 0.396461546421051, 0.5510106086730957, 0.44435471296310425, 0.14549784362316132, 0.2561070919036865], \"loglift\": [30.0, 29.0, 28.0, 27.0, 26.0, 25.0, 24.0, 23.0, 22.0, 21.0, 20.0, 19.0, 18.0, 17.0, 16.0, 15.0, 14.0, 13.0, 12.0, 11.0, 10.0, 9.0, 8.0, 7.0, 6.0, 5.0, 4.0, 3.0, 2.0, 1.0, 0.47279998660087585, 0.47269999980926514, 0.47209998965263367, 0.47189998626708984, 0.4602000117301941, 0.43810001015663147, 0.390500009059906, 0.390500009059906, 0.390500009059906, 0.390500009059906, 0.390500009059906, 0.390500009059906, 0.3903999924659729, 0.3903999924659729, 0.3903999924659729, 0.3903999924659729, 0.3903999924659729, 0.3903999924659729, 0.3903000056743622, 0.3903000056743622, 0.3901999890804291, 0.3901999890804291, 0.3901999890804291, 0.3901999890804291, 0.39010000228881836, 0.39010000228881836, 0.39010000228881836, 0.38989999890327454, 0.3898000121116638, 0.3898000121116638, 0.3765999972820282, 0.3443000018596649, 0.33660000562667847, 0.27709999680519104, 0.2639000117778778, -0.08780000358819962, 0.1080000028014183, 0.10779999941587448, 0.26339998841285706, 0.2630999982357025, 1.4711999893188477, 1.4710999727249146, 1.4704999923706055, 1.4703999757766724, 1.4701999425888062, 1.4701000452041626, 1.4700000286102295, 1.469599962234497, 1.469499945640564, 1.4694000482559204, 1.469099998474121, 1.4687000513076782, 1.4674999713897705, 1.3561999797821045, 1.340000033378601, 1.3359999656677246, 1.3157999515533447, 1.2925000190734863, 1.273900032043457, 1.2043999433517456, 1.1261999607086182, 0.7401000261306763, 0.739300012588501, 0.7387999892234802, 0.04879999905824661, 0.04690000042319298, 0.04610000178217888, 0.04569999873638153, 0.04520000144839287, 0.04470000043511391, 0.04450000077486038, -0.21209999918937683, -0.43709999322891235, -0.1062999963760376, -0.3109000027179718, -0.977400004863739, -0.4397999942302704, -1.4292999505996704, 1.836899995803833, 1.8331999778747559, 1.6217000484466553, 1.5729999542236328, 1.5721999406814575, 1.572100043296814, 1.5717999935150146, 1.5712000131607056, 1.5705000162124634, 1.5628000497817993, 1.513100028038025, 1.5111000537872314, 1.5042999982833862, 1.5009000301361084, 1.500100016593933, 1.4982999563217163, 1.4922000169754028, 1.4886000156402588, 1.4881000518798828, 1.486899971961975, 1.4852999448776245, 1.476699948310852, 1.4680999517440796, 1.4600000381469727, 1.4505000114440918, 1.1872999668121338, 1.0532000064849854, 0.4442000091075897, 0.15889999270439148, -0.05429999902844429, -0.05480000004172325, -0.3093999922275543, -1.080199956893921, 1.8100999593734741, 1.5312999486923218, 1.5311000347137451, 1.531000018119812, 1.5307999849319458, 1.5307999849319458, 1.5306999683380127, 1.5306999683380127, 1.530500054359436, 1.5303000211715698, 1.5302000045776367, 1.5300999879837036, 1.5289000272750854, 1.5286999940872192, 1.5281000137329102, 1.527999997138977, 1.5276000499725342, 1.526900053024292, 1.5263999700546265, 1.4789999723434448, 1.4693000316619873, 1.4687999486923218, 1.4651999473571777, 1.4532999992370605, 1.4483000040054321, 1.441100001335144, 1.2870999574661255, 1.1986000537872314, 1.1892000436782837, 1.0322999954223633, 0.17020000517368317, 0.6269000172615051, 0.17790000140666962, 1.628000020980835, 1.626099944114685, 1.625499963760376, 1.6205999851226807, 1.3212000131607056, 1.2867000102996826, 1.2862000465393066, 1.2860000133514404, 1.2858999967575073, 1.2857999801635742, 1.2856999635696411, 1.285599946975708, 1.285599946975708, 1.2855000495910645, 1.2854000329971313, 1.2851999998092651, 1.285099983215332, 1.285099983215332, 1.284999966621399, 1.284999966621399, 1.284999966621399, 1.2843999862670898, 1.2842999696731567, 1.284000039100647, 1.2839000225067139, 1.2838000059127808, 1.2835999727249146, 1.2834999561309814, 1.2834999561309814, 1.283400058746338, 0.9797999858856201, 0.84579998254776, 1.031599998474121, 0.010700000450015068, -0.313400000333786, -0.11969999969005585, 0.9196000099182129, 0.35359999537467957], \"logprob\": [30.0, 29.0, 28.0, 27.0, 26.0, 25.0, 24.0, 23.0, 22.0, 21.0, 20.0, 19.0, 18.0, 17.0, 16.0, 15.0, 14.0, 13.0, 12.0, 11.0, 10.0, 9.0, 8.0, 7.0, 6.0, 5.0, 4.0, 3.0, 2.0, 1.0, -3.9584999084472656, -3.9588000774383545, -3.960400104522705, -3.960700035095215, -4.002900123596191, -3.6236000061035156, -4.5644001960754395, -4.564499855041504, -4.564599990844727, -4.564599990844727, -4.564599990844727, -4.564599990844727, -4.564700126647949, -4.564599990844727, -4.564700126647949, -4.564799785614014, -4.564799785614014, -4.564799785614014, -4.564799785614014, -4.564899921417236, -4.565100193023682, -4.565199851989746, -4.565199851989746, -4.565199851989746, -4.565299987792969, -4.565400123596191, -4.565499782562256, -4.565899848937988, -4.566299915313721, -4.566100120544434, -4.0142998695373535, -4.019199848175049, -4.013599872589111, -3.999799966812134, -4.563199996948242, -4.561200141906738, -4.563300132751465, -4.563499927520752, -4.564499855041504, -4.565000057220459, -3.9307000637054443, -3.9307000637054443, -3.9314000606536865, -3.9312000274658203, -3.93149995803833, -3.93179988861084, -3.93179988861084, -3.9323999881744385, -3.932300090789795, -3.9326999187469482, -3.9326999187469482, -3.933199882507324, -3.9344000816345215, -4.105000019073486, -4.128699779510498, -4.1331000328063965, -4.1631999015808105, -4.196599960327148, -4.223199844360352, -3.929800033569336, -3.325500011444092, -3.931999921798706, -3.931999921798706, -3.932499885559082, -5.707300186157227, -5.709000110626221, -5.711900234222412, -5.7118000984191895, -5.712600231170654, -5.7129998207092285, -5.711599826812744, -5.70389986038208, -5.700300216674805, -5.708099842071533, -5.70419979095459, -5.693399906158447, -5.70419979095459, -5.706099987030029, -3.427500009536743, -3.4298999309539795, -3.47379994392395, -4.031099796295166, -4.031599998474121, -4.031899929046631, -4.032100200653076, -4.03249979019165, -4.033100128173828, -4.039100170135498, -4.093500137329102, -4.0954999923706055, -4.10260009765625, -4.106200218200684, -4.106900215148926, -4.108699798583984, -4.114999771118164, -4.11870002746582, -4.11929988861084, -4.120500087738037, -4.122099876403809, -4.130899906158447, -4.139800071716309, -4.148099899291992, -4.157899856567383, -4.10830020904541, -4.13539981842041, -4.029200077056885, -4.191299915313721, -5.811999797821045, -5.810699939727783, -5.801199913024902, -5.796199798583984, -3.495800018310547, -4.101399898529053, -4.101500034332275, -4.1016998291015625, -4.1016998291015625, -4.1016998291015625, -4.101799964904785, -4.101799964904785, -4.101799964904785, -4.102099895477295, -4.102200031280518, -4.102200031280518, -4.1031999588012695, -4.103300094604492, -4.103600025177002, -4.103799819946289, -4.104300022125244, -4.104499816894531, -4.105000019073486, -4.161799907684326, -4.173099994659424, -4.173799991607666, -4.177800178527832, -4.191400051116943, -4.197000026702881, -4.2052998542785645, -4.106200218200684, -4.209000110626221, -4.106299877166748, -4.101900100708008, -4.106599807739258, -4.179900169372559, -4.185699939727783, -3.8671000003814697, -3.8682000637054443, -3.868499994277954, -3.871299982070923, -3.8673999309539795, -4.473100185394287, -4.473499774932861, -4.473499774932861, -4.473499774932861, -4.473700046539307, -4.473700046539307, -4.473700046539307, -4.473700046539307, -4.473999977111816, -4.473899841308594, -4.473899841308594, -4.4741997718811035, -4.474100112915039, -4.4741997718811035, -4.4741997718811035, -4.474100112915039, -4.474400043487549, -4.474699974060059, -4.474699974060059, -4.474899768829346, -4.474800109863281, -4.474999904632568, -4.474999904632568, -4.475100040435791, -4.475100040435791, -3.493499994277954, -3.8701999187469482, -4.375899791717529, -4.380199909210205, -4.375100135803223, -4.396599769592285, -4.473800182342529, -4.474299907684326]}, \"token.table\": {\"Topic\": [], \"Freq\": [], \"Term\": []}, \"R\": 30, \"lambda.step\": 0.01, \"plot.opts\": {\"xlab\": \"PC1\", \"ylab\": \"PC2\"}, \"topic.order\": [5, 4, 3, 2, 1]};\n",
       "\n",
       "function LDAvis_load_lib(url, callback){\n",
       "  var s = document.createElement('script');\n",
       "  s.src = url;\n",
       "  s.async = true;\n",
       "  s.onreadystatechange = s.onload = callback;\n",
       "  s.onerror = function(){console.warn(\"failed to load library \" + url);};\n",
       "  document.getElementsByTagName(\"head\")[0].appendChild(s);\n",
       "}\n",
       "\n",
       "if(typeof(LDAvis) !== \"undefined\"){\n",
       "   // already loaded: just create the visualization\n",
       "   !function(LDAvis){\n",
       "       new LDAvis(\"#\" + \"ldavis_el4482140523373647936705659196\", ldavis_el4482140523373647936705659196_data);\n",
       "   }(LDAvis);\n",
       "}else if(typeof define === \"function\" && define.amd){\n",
       "   // require.js is available: use it to load d3/LDAvis\n",
       "   require.config({paths: {d3: \"https://cdnjs.cloudflare.com/ajax/libs/d3/3.5.5/d3.min\"}});\n",
       "   require([\"d3\"], function(d3){\n",
       "      window.d3 = d3;\n",
       "      LDAvis_load_lib(\"https://cdn.rawgit.com/bmabey/pyLDAvis/files/ldavis.v1.0.0.js\", function(){\n",
       "        new LDAvis(\"#\" + \"ldavis_el4482140523373647936705659196\", ldavis_el4482140523373647936705659196_data);\n",
       "      });\n",
       "    });\n",
       "}else{\n",
       "    // require.js not available: dynamically load d3 & LDAvis\n",
       "    LDAvis_load_lib(\"https://cdnjs.cloudflare.com/ajax/libs/d3/3.5.5/d3.min.js\", function(){\n",
       "         LDAvis_load_lib(\"https://cdn.rawgit.com/bmabey/pyLDAvis/files/ldavis.v1.0.0.js\", function(){\n",
       "                 new LDAvis(\"#\" + \"ldavis_el4482140523373647936705659196\", ldavis_el4482140523373647936705659196_data);\n",
       "            })\n",
       "         });\n",
       "}\n",
       "</script>"
      ],
      "text/plain": [
       "PreparedData(topic_coordinates=                x           y  topics  cluster       Freq\n",
       "topic                                                    \n",
       "4      147.882919  -45.608425       1        1  55.881927\n",
       "3       98.105225   80.281960       2        1  14.106655\n",
       "2      -35.188766  -45.216446       3        1  10.004410\n",
       "1       52.588741 -148.792480       4        1  10.004118\n",
       "0      -41.987759   90.380188       5        1  10.002891, topic_info=     Category      Freq           Term     Total  loglift  logprob\n",
       "term                                                              \n",
       "137   Default  0.000000          india  0.000000  30.0000  30.0000\n",
       "69    Default  0.000000      according  0.000000  29.0000  29.0000\n",
       "134   Default  0.000000     investment  0.000000  28.0000  28.0000\n",
       "35    Default  0.000000            tax  0.000000  27.0000  27.0000\n",
       "89    Default  0.000000      increases  0.000000  26.0000  26.0000\n",
       "20    Default  0.000000        example  0.000000  25.0000  25.0000\n",
       "99    Default  0.000000           year  0.000000  24.0000  24.0000\n",
       "28    Default  0.000000         public  0.000000  23.0000  23.0000\n",
       "67    Default  0.000000          money  0.000000  22.0000  22.0000\n",
       "91    Default  0.000000        overall  0.000000  21.0000  21.0000\n",
       "151   Default  0.000000  manufacturing  0.000000  20.0000  20.0000\n",
       "121   Default  0.000000       domestic  0.000000  19.0000  19.0000\n",
       "184   Default  0.000000        deficit  0.000000  18.0000  18.0000\n",
       "103   Default  0.000000       interest  0.000000  17.0000  17.0000\n",
       "179   Default  0.000000         sector  0.000000  16.0000  16.0000\n",
       "178   Default  0.000000  privatization  0.000000  15.0000  15.0000\n",
       "177   Default  0.000000       manifest  0.000000  14.0000  14.0000\n",
       "48    Default  0.000000     difference  0.000000  13.0000  13.0000\n",
       "174   Default  0.000000       dominant  0.000000  12.0000  12.0000\n",
       "175   Default  0.000000    enterprises  0.000000  11.0000  11.0000\n",
       "15    Default  0.000000        surplus  0.000000  10.0000  10.0000\n",
       "12    Default  0.000000   equilibrium,  0.000000   9.0000   9.0000\n",
       "176   Default  0.000000           form  0.000000   8.0000   8.0000\n",
       "13    Default  0.000000      increased  0.000000   7.0000   7.0000\n",
       "135   Default  0.000000     government  0.000000   6.0000   6.0000\n",
       "136   Default  0.000000      important  0.000000   5.0000   5.0000\n",
       "14    Default  0.000000        market,  0.000000   4.0000   4.0000\n",
       "138   Default  0.000000        revenue  0.000000   3.0000   3.0000\n",
       "49    Default  0.000000            gdp  0.000000   2.0000   2.0000\n",
       "143   Default  0.000000        india’s  0.000000   1.0000   1.0000\n",
       "...       ...       ...            ...       ...      ...      ...\n",
       "149    Topic5  0.036513           2022  0.100891   1.2859  -4.4735\n",
       "125    Topic5  0.036507            one  0.100883   1.2858  -4.4737\n",
       "150    Topic5  0.036506      announced  0.100897   1.2857  -4.4737\n",
       "152    Topic5  0.036506       national  0.100900   1.2856  -4.4737\n",
       "159    Topic5  0.036506       deficits  0.100907   1.2856  -4.4737\n",
       "154    Topic5  0.036497          share  0.100893   1.2855  -4.4740\n",
       "122    Topic5  0.036499        exceeds  0.100911   1.2854  -4.4739\n",
       "161    Topic5  0.036498          trade  0.100918   1.2852  -4.4739\n",
       "124    Topic5  0.036489        observe  0.100905   1.2851  -4.4742\n",
       "123    Topic5  0.036492    investments  0.100918   1.2851  -4.4741\n",
       "127    Topic5  0.036490          would  0.100917   1.2850  -4.4742\n",
       "158    Topic5  0.036490    contributed  0.100919   1.2850  -4.4742\n",
       "162    Topic5  0.036491            two  0.100927   1.2850  -4.4741\n",
       "118    Topic5  0.036482        holding  0.100960   1.2844  -4.4744\n",
       "126    Topic5  0.036472       savings,  0.100944   1.2843  -4.4747\n",
       "160    Topic5  0.036470          items  0.100964   1.2840  -4.4747\n",
       "157    Topic5  0.036462        balance  0.100955   1.2839  -4.4749\n",
       "70     Topic5  0.036465    consumption  0.100970   1.2838  -4.4748\n",
       "116    Topic5  0.036459           cost  0.100977   1.2836  -4.4750\n",
       "117    Topic5  0.036458         equals  0.100985   1.2835  -4.4750\n",
       "156    Topic5  0.036455        2012–13  0.100977   1.2835  -4.4751\n",
       "73     Topic5  0.036457      household  0.100995   1.2834  -4.4751\n",
       "69     Topic5  0.097287      according  0.365081   0.9798  -3.4935\n",
       "67     Topic5  0.066753          money  0.286440   0.8458  -3.8702\n",
       "143    Topic5  0.040258        india’s  0.143448   1.0316  -4.3759\n",
       "63     Topic5  0.040085           real  0.396462   0.0107  -4.3802\n",
       "62     Topic5  0.040290           rate  0.551011  -0.3134  -4.3751\n",
       "49     Topic5  0.039435            gdp  0.444355  -0.1197  -4.3966\n",
       "48     Topic5  0.036505     difference  0.145498   0.9196  -4.4738\n",
       "105    Topic5  0.036485           paid  0.256107   0.3536  -4.4743\n",
       "\n",
       "[212 rows x 6 columns], token_table=Empty DataFrame\n",
       "Columns: [Topic, Freq, Term]\n",
       "Index: [], R=30, lambda_step=0.01, plot_opts={'xlab': 'PC1', 'ylab': 'PC2'}, topic_order=[5, 4, 3, 2, 1])"
      ]
     },
     "execution_count": 22,
     "metadata": {},
     "output_type": "execute_result"
    }
   ],
   "source": [
    "import pyLDAvis.gensim\n",
    "\n",
    "pyLDAvis.enable_notebook()\n",
    "panel = pyLDAvis.gensim.prepare(lda, corpus_lda, dictionary, mds='tsne')\n",
    "panel"
   ]
  }
 ],
 "metadata": {
  "kernelspec": {
   "display_name": "Python 3",
   "language": "python",
   "name": "python3"
  },
  "language_info": {
   "codemirror_mode": {
    "name": "ipython",
    "version": 3
   },
   "file_extension": ".py",
   "mimetype": "text/x-python",
   "name": "python",
   "nbconvert_exporter": "python",
   "pygments_lexer": "ipython3",
   "version": "3.7.1"
  }
 },
 "nbformat": 4,
 "nbformat_minor": 2
}
